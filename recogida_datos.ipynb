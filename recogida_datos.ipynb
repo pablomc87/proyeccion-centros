{
 "cells": [
  {
   "cell_type": "code",
   "execution_count": 37,
   "metadata": {},
   "outputs": [],
   "source": [
    "from selenium import webdriver\n",
    "from selenium.webdriver.common.by import By\n",
    "from selenium.webdriver.support.wait import WebDriverWait\n",
    "from selenium.webdriver.chrome.options import Options\n",
    "import os\n",
    "import re"
   ]
  },
  {
   "cell_type": "code",
   "execution_count": 18,
   "metadata": {},
   "outputs": [
    {
     "name": "stderr",
     "output_type": "stream",
     "text": [
      "C:\\Users\\p.martin-calvo\\AppData\\Local\\Temp\\ipykernel_19480\\3788881940.py:1: DeprecationWarning: executable_path has been deprecated, please pass in a Service object\n",
      "  driver = webdriver.Chrome(executable_path=\"assets/chromedriver.exe\")\n"
     ]
    }
   ],
   "source": [
    "driver = webdriver.Chrome(executable_path=\"assets/chromedriver.exe\")"
   ]
  },
  {
   "cell_type": "code",
   "execution_count": 23,
   "metadata": {},
   "outputs": [],
   "source": [
    "cursos = ['2020-2021', '2019-2020', '2018-2019', '2017-2018', '2016-2017', '2015-2016', '2014-2015', '2013-2014', '2012-2013', '2011-2012', '2010-2011', '2009-2010', '2008-2009', '2007-2008', '2006-2007',\n",
    "'2005-2006', '2004-2005', '2003-2004', '2002-2003', '2001-2002', '2000-2001', '1999-2000']"
   ]
  },
  {
   "cell_type": "code",
   "execution_count": 24,
   "metadata": {},
   "outputs": [],
   "source": [
    "archivos = ['01','02','03','04','05','06','07','08','09','10','11']"
   ]
  },
  {
   "cell_type": "code",
   "execution_count": 27,
   "metadata": {},
   "outputs": [],
   "source": [
    "def every_downloads_chrome(driver):\n",
    "    if not driver.current_url.startswith(\"chrome://downloads\"):\n",
    "        driver.get(\"chrome://downloads/\")\n",
    "    return driver.execute_script(\"\"\"\n",
    "        var items = document.querySelector('downloads-manager')\n",
    "            .shadowRoot.getElementById('downloadsList').items;\n",
    "        if (items.every(e => e.state === \"COMPLETE\"))\n",
    "            return items.map(e => e.fileUrl || e.file_url);\n",
    "        \"\"\")"
   ]
  },
  {
   "cell_type": "code",
   "execution_count": 49,
   "metadata": {},
   "outputs": [
    {
     "name": "stderr",
     "output_type": "stream",
     "text": [
      "C:\\Users\\p.martin-calvo\\AppData\\Local\\Temp\\ipykernel_19480\\789005245.py:5: DeprecationWarning: executable_path has been deprecated, please pass in a Service object\n",
      "  driver = webdriver.Chrome(executable_path=\"assets/chromedriver.exe\", options=options)\n"
     ]
    },
    {
     "ename": "NoSuchElementException",
     "evalue": "Message: no such element: Unable to locate element: {\"method\":\"xpath\",\"selector\":\"//*[contains(@title, \"XLSx\")]\"}\n  (Session info: chrome=111.0.5563.65)\nStacktrace:\nBacktrace:\n\t(No symbol) [0x008DDCE3]\n\t(No symbol) [0x008739D1]\n\t(No symbol) [0x00784DA8]\n\t(No symbol) [0x007B019F]\n\t(No symbol) [0x007B03AB]\n\t(No symbol) [0x007DEE62]\n\t(No symbol) [0x007CAF14]\n\t(No symbol) [0x007DD57C]\n\t(No symbol) [0x007CACC6]\n\t(No symbol) [0x007A6F68]\n\t(No symbol) [0x007A80CD]\n\tGetHandleVerifier [0x00B53832+2506274]\n\tGetHandleVerifier [0x00B89794+2727300]\n\tGetHandleVerifier [0x00B8E36C+2746716]\n\tGetHandleVerifier [0x00986690+617600]\n\t(No symbol) [0x0087C712]\n\t(No symbol) [0x00881FF8]\n\t(No symbol) [0x008820DB]\n\t(No symbol) [0x0088C63B]\n\t(No symbol) [0x757200F9]\n\tRtlGetAppContainerNamedObjectPath [0x778A7BBE+286]\n\tRtlGetAppContainerNamedObjectPath [0x778A7B8E+238]\n",
     "output_type": "error",
     "traceback": [
      "\u001b[1;31m---------------------------------------------------------------------------\u001b[0m",
      "\u001b[1;31mNoSuchElementException\u001b[0m                    Traceback (most recent call last)",
      "\u001b[1;32mc:\\Users\\p.martin-calvo\\Documents\\perso\\proyeccion-centros\\recogida_datos.ipynb Cell 6\u001b[0m in \u001b[0;36m9\n\u001b[0;32m      <a href='vscode-notebook-cell:/c%3A/Users/p.martin-calvo/Documents/perso/proyeccion-centros/recogida_datos.ipynb#X13sZmlsZQ%3D%3D?line=6'>7</a>\u001b[0m     \u001b[39mfor\u001b[39;00m archivo \u001b[39min\u001b[39;00m archivos:\n\u001b[0;32m      <a href='vscode-notebook-cell:/c%3A/Users/p.martin-calvo/Documents/perso/proyeccion-centros/recogida_datos.ipynb#X13sZmlsZQ%3D%3D?line=7'>8</a>\u001b[0m         driver\u001b[39m.\u001b[39mget(\u001b[39mf\u001b[39m\u001b[39m\"\u001b[39m\u001b[39mhttp://estadisticas.mecd.gob.es/EducaJaxiPx/dlgExport.htm?path=/no-universitaria/centros/centrosyunid/\u001b[39m\u001b[39m{\u001b[39;00mcurso\u001b[39m}\u001b[39;00m\u001b[39m-rd/reggen//l0/&file=reggen_\u001b[39m\u001b[39m{\u001b[39;00marchivo\u001b[39m}\u001b[39;00m\u001b[39m.px\u001b[39m\u001b[39m\"\u001b[39m)\n\u001b[1;32m----> <a href='vscode-notebook-cell:/c%3A/Users/p.martin-calvo/Documents/perso/proyeccion-centros/recogida_datos.ipynb#X13sZmlsZQ%3D%3D?line=8'>9</a>\u001b[0m         descarga \u001b[39m=\u001b[39m driver\u001b[39m.\u001b[39;49mfind_element(By\u001b[39m.\u001b[39;49mXPATH, \u001b[39m'\u001b[39;49m\u001b[39m//*[contains(@title, \u001b[39;49m\u001b[39m\"\u001b[39;49m\u001b[39mXLSx\u001b[39;49m\u001b[39m\"\u001b[39;49m\u001b[39m)]\u001b[39;49m\u001b[39m'\u001b[39;49m)\n\u001b[0;32m     <a href='vscode-notebook-cell:/c%3A/Users/p.martin-calvo/Documents/perso/proyeccion-centros/recogida_datos.ipynb#X13sZmlsZQ%3D%3D?line=9'>10</a>\u001b[0m         descarga\u001b[39m.\u001b[39mclick()\n\u001b[0;32m     <a href='vscode-notebook-cell:/c%3A/Users/p.martin-calvo/Documents/perso/proyeccion-centros/recogida_datos.ipynb#X13sZmlsZQ%3D%3D?line=10'>11</a>\u001b[0m paths \u001b[39m=\u001b[39m WebDriverWait(driver, \u001b[39m120\u001b[39m, \u001b[39m1\u001b[39m)\u001b[39m.\u001b[39muntil(every_downloads_chrome)\n",
      "File \u001b[1;32mc:\\Users\\p.martin-calvo\\AppData\\Local\\Programs\\Python\\Python310\\lib\\site-packages\\selenium\\webdriver\\remote\\webdriver.py:856\u001b[0m, in \u001b[0;36mWebDriver.find_element\u001b[1;34m(self, by, value)\u001b[0m\n\u001b[0;32m    853\u001b[0m     by \u001b[39m=\u001b[39m By\u001b[39m.\u001b[39mCSS_SELECTOR\n\u001b[0;32m    854\u001b[0m     value \u001b[39m=\u001b[39m \u001b[39m'\u001b[39m\u001b[39m[name=\u001b[39m\u001b[39m\"\u001b[39m\u001b[39m%s\u001b[39;00m\u001b[39m\"\u001b[39m\u001b[39m]\u001b[39m\u001b[39m'\u001b[39m \u001b[39m%\u001b[39m value\n\u001b[1;32m--> 856\u001b[0m \u001b[39mreturn\u001b[39;00m \u001b[39mself\u001b[39;49m\u001b[39m.\u001b[39;49mexecute(Command\u001b[39m.\u001b[39;49mFIND_ELEMENT, {\n\u001b[0;32m    857\u001b[0m     \u001b[39m'\u001b[39;49m\u001b[39musing\u001b[39;49m\u001b[39m'\u001b[39;49m: by,\n\u001b[0;32m    858\u001b[0m     \u001b[39m'\u001b[39;49m\u001b[39mvalue\u001b[39;49m\u001b[39m'\u001b[39;49m: value})[\u001b[39m'\u001b[39m\u001b[39mvalue\u001b[39m\u001b[39m'\u001b[39m]\n",
      "File \u001b[1;32mc:\\Users\\p.martin-calvo\\AppData\\Local\\Programs\\Python\\Python310\\lib\\site-packages\\selenium\\webdriver\\remote\\webdriver.py:429\u001b[0m, in \u001b[0;36mWebDriver.execute\u001b[1;34m(self, driver_command, params)\u001b[0m\n\u001b[0;32m    427\u001b[0m response \u001b[39m=\u001b[39m \u001b[39mself\u001b[39m\u001b[39m.\u001b[39mcommand_executor\u001b[39m.\u001b[39mexecute(driver_command, params)\n\u001b[0;32m    428\u001b[0m \u001b[39mif\u001b[39;00m response:\n\u001b[1;32m--> 429\u001b[0m     \u001b[39mself\u001b[39;49m\u001b[39m.\u001b[39;49merror_handler\u001b[39m.\u001b[39;49mcheck_response(response)\n\u001b[0;32m    430\u001b[0m     response[\u001b[39m'\u001b[39m\u001b[39mvalue\u001b[39m\u001b[39m'\u001b[39m] \u001b[39m=\u001b[39m \u001b[39mself\u001b[39m\u001b[39m.\u001b[39m_unwrap_value(\n\u001b[0;32m    431\u001b[0m         response\u001b[39m.\u001b[39mget(\u001b[39m'\u001b[39m\u001b[39mvalue\u001b[39m\u001b[39m'\u001b[39m, \u001b[39mNone\u001b[39;00m))\n\u001b[0;32m    432\u001b[0m     \u001b[39mreturn\u001b[39;00m response\n",
      "File \u001b[1;32mc:\\Users\\p.martin-calvo\\AppData\\Local\\Programs\\Python\\Python310\\lib\\site-packages\\selenium\\webdriver\\remote\\errorhandler.py:243\u001b[0m, in \u001b[0;36mErrorHandler.check_response\u001b[1;34m(self, response)\u001b[0m\n\u001b[0;32m    241\u001b[0m         alert_text \u001b[39m=\u001b[39m value[\u001b[39m'\u001b[39m\u001b[39malert\u001b[39m\u001b[39m'\u001b[39m]\u001b[39m.\u001b[39mget(\u001b[39m'\u001b[39m\u001b[39mtext\u001b[39m\u001b[39m'\u001b[39m)\n\u001b[0;32m    242\u001b[0m     \u001b[39mraise\u001b[39;00m exception_class(message, screen, stacktrace, alert_text)  \u001b[39m# type: ignore[call-arg]  # mypy is not smart enough here\u001b[39;00m\n\u001b[1;32m--> 243\u001b[0m \u001b[39mraise\u001b[39;00m exception_class(message, screen, stacktrace)\n",
      "\u001b[1;31mNoSuchElementException\u001b[0m: Message: no such element: Unable to locate element: {\"method\":\"xpath\",\"selector\":\"//*[contains(@title, \"XLSx\")]\"}\n  (Session info: chrome=111.0.5563.65)\nStacktrace:\nBacktrace:\n\t(No symbol) [0x008DDCE3]\n\t(No symbol) [0x008739D1]\n\t(No symbol) [0x00784DA8]\n\t(No symbol) [0x007B019F]\n\t(No symbol) [0x007B03AB]\n\t(No symbol) [0x007DEE62]\n\t(No symbol) [0x007CAF14]\n\t(No symbol) [0x007DD57C]\n\t(No symbol) [0x007CACC6]\n\t(No symbol) [0x007A6F68]\n\t(No symbol) [0x007A80CD]\n\tGetHandleVerifier [0x00B53832+2506274]\n\tGetHandleVerifier [0x00B89794+2727300]\n\tGetHandleVerifier [0x00B8E36C+2746716]\n\tGetHandleVerifier [0x00986690+617600]\n\t(No symbol) [0x0087C712]\n\t(No symbol) [0x00881FF8]\n\t(No symbol) [0x008820DB]\n\t(No symbol) [0x0088C63B]\n\t(No symbol) [0x757200F9]\n\tRtlGetAppContainerNamedObjectPath [0x778A7BBE+286]\n\tRtlGetAppContainerNamedObjectPath [0x778A7B8E+238]\n"
     ]
    }
   ],
   "source": [
    "options = Options()\n",
    "\n",
    "prefs = {\"download.default_directory\" : \"data/automatico/\"}\n",
    "options.add_experimental_option(\"prefs\",prefs)\n",
    "driver = webdriver.Chrome(executable_path=\"assets/chromedriver.exe\", options=options)\n",
    "for curso in cursos:\n",
    "    for archivo in archivos:\n",
    "        driver.get(f\"http://estadisticas.mecd.gob.es/EducaJaxiPx/dlgExport.htm?path=/no-universitaria/centros/centrosyunid/{curso}-rd/reggen//l0/&file=reggen_{archivo}.px\")\n",
    "        descarga = driver.find_element(By.XPATH, '//*[contains(@title, \"XLSx\")]')\n",
    "        descarga.click()\n",
    "paths = WebDriverWait(driver, 120, 1).until(every_downloads_chrome)\n",
    "driver.quit()"
   ]
  },
  {
   "cell_type": "code",
   "execution_count": 67,
   "metadata": {},
   "outputs": [],
   "source": [
    "path = 'data/automatico'\n",
    "files = os.listdir(path)"
   ]
  },
  {
   "cell_type": "code",
   "execution_count": 68,
   "metadata": {},
   "outputs": [],
   "source": [
    "for file in files:\n",
    "    if \"(\" not in file:\n",
    "        \n",
    "        os.rename(os.path.join(path,file), os.path.join(path,file.replace('.xlsx',' '+cursos[0]+'.xlsx')))\n",
    "    else:\n",
    "        os.rename(os.path.join(path,file), os.path.join(path,file.replace(re.findall(\"\\(\\d\\)\", file)[0],cursos[int(re.findall(\"\\(\\d\\)\", file)[0][1])])))"
   ]
  }
 ],
 "metadata": {
  "kernelspec": {
   "display_name": "Python 3",
   "language": "python",
   "name": "python3"
  },
  "language_info": {
   "codemirror_mode": {
    "name": "ipython",
    "version": 3
   },
   "file_extension": ".py",
   "mimetype": "text/x-python",
   "name": "python",
   "nbconvert_exporter": "python",
   "pygments_lexer": "ipython3",
   "version": "3.10.7"
  },
  "orig_nbformat": 4
 },
 "nbformat": 4,
 "nbformat_minor": 2
}
